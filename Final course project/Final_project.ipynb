{
 "cells": [
  {
   "cell_type": "code",
   "execution_count": 1,
   "metadata": {},
   "outputs": [],
   "source": [
    "import requests\n",
    "from urllib.parse import urlencode\n",
    "import pandas as pd\n",
    "import pingouin as pg\n",
    "import seaborn as sns\n",
    "import matplotlib.pyplot as plt\n",
    "import pandahouse as ph\n",
    "import numpy as np\n",
    "from tqdm.auto import tqdm\n",
    "from scipy.stats import norm\n",
    "\n",
    "plt.style.use('ggplot')"
   ]
  },
  {
   "cell_type": "code",
   "execution_count": 2,
   "metadata": {},
   "outputs": [],
   "source": [
    "# настройки размеров графиков\n",
    "sns.set(font_scale=2,\n",
    "        style=\"whitegrid\",\n",
    "        rc={'figure.figsize': (20, 7)})"
   ]
  },
  {
   "cell_type": "markdown",
   "metadata": {},
   "source": [
    "## Задание 1. A/B–тестирование"
   ]
  },
  {
   "cell_type": "markdown",
   "metadata": {},
   "source": [
    "### 1.1 Условие\n",
    "\n",
    "Одной из основных задач аналитика в нашей команде является корректное проведение экспериментов. Для этого мы применяем метод A/B–тестирования. В ходе тестирования одной гипотезы целевой группе была предложена новая механика оплаты услуг на сайте, у контрольной группы оставалась базовая механика. В качестве задания Вам необходимо проанализировать итоги эксперимента и сделать вывод, стоит ли запускать новую механику оплаты на всех пользователей."
   ]
  },
  {
   "cell_type": "markdown",
   "metadata": {},
   "source": [
    "### 1.2 Входные данные\n",
    "\n",
    "В качестве входных данных Вы имеете 4 csv-файла.\n",
    "\n",
    "Далее мы прочитаем эти данные и сохраним в DataFrame"
   ]
  },
  {
   "cell_type": "code",
   "execution_count": 3,
   "metadata": {},
   "outputs": [],
   "source": [
    "# Общая ссылка для чтения с яндекс диска\n",
    "base_url = 'https://cloud-api.yandex.net/v1/disk/public/resources/download?'"
   ]
  },
  {
   "cell_type": "markdown",
   "metadata": {},
   "source": [
    "#### groups.csv  \n",
    "файл с информацией о принадлежности пользователя к контрольной или экспериментальной группе (А – контроль, B – целевая группа) "
   ]
  },
  {
   "cell_type": "code",
   "execution_count": 4,
   "metadata": {},
   "outputs": [
    {
     "name": "stderr",
     "output_type": "stream",
     "text": [
      "/opt/tljh/user/lib/python3.7/site-packages/outdated/utils.py:18: OutdatedCacheFailedWarning: Failed to use cache while checking for outdated package.\n",
      "Set the environment variable OUTDATED_RAISE_EXCEPTION=1 for a full traceback.\n",
      "Set the environment variable OUTDATED_IGNORE=1 to disable these warnings.\n",
      "  **kwargs\n",
      "/opt/tljh/user/lib/python3.7/site-packages/outdated/utils.py:18: OutdatedPackageWarning: The package pingouin is out of date. Your version is 0.4.0, the latest is 0.5.3.\n",
      "Set the environment variable OUTDATED_IGNORE=1 to disable these warnings.\n",
      "  **kwargs\n",
      "/opt/tljh/user/lib/python3.7/site-packages/outdated/utils.py:18: OutdatedPackageWarning: The package outdated is out of date. Your version is 0.2.1, the latest is 0.2.2.\n",
      "Set the environment variable OUTDATED_IGNORE=1 to disable these warnings.\n",
      "  **kwargs\n"
     ]
    }
   ],
   "source": [
    "# Cсылка для чтения\n",
    "public_key_groups = 'https://disk.yandex.ru/d/UhyYx41rTt3clQ'  # Сюда пишется ссылка на Я.диск\n",
    "\n",
    "# Получаем загрузочную ссылку\n",
    "final_url_groups = base_url + urlencode(dict(public_key=public_key_groups))\n",
    "response_groups = requests.get(final_url_groups)\n",
    "url_groups = response_groups.json()['href']"
   ]
  },
  {
   "cell_type": "code",
   "execution_count": 5,
   "metadata": {},
   "outputs": [],
   "source": [
    "groups = pd.read_csv(url_groups, sep=';')"
   ]
  },
  {
   "cell_type": "markdown",
   "metadata": {},
   "source": [
    "Посмотрим DataFrame: какие данные он содержит, его размер, типы данных, проверим его на наличие NaN и посмотрим число уникальных данных в столбцах"
   ]
  },
  {
   "cell_type": "code",
   "execution_count": 6,
   "metadata": {},
   "outputs": [
    {
     "data": {
      "text/html": [
       "<div>\n",
       "<style scoped>\n",
       "    .dataframe tbody tr th:only-of-type {\n",
       "        vertical-align: middle;\n",
       "    }\n",
       "\n",
       "    .dataframe tbody tr th {\n",
       "        vertical-align: top;\n",
       "    }\n",
       "\n",
       "    .dataframe thead th {\n",
       "        text-align: right;\n",
       "    }\n",
       "</style>\n",
       "<table border=\"1\" class=\"dataframe\">\n",
       "  <thead>\n",
       "    <tr style=\"text-align: right;\">\n",
       "      <th></th>\n",
       "      <th>id</th>\n",
       "      <th>grp</th>\n",
       "    </tr>\n",
       "  </thead>\n",
       "  <tbody>\n",
       "    <tr>\n",
       "      <th>0</th>\n",
       "      <td>1489</td>\n",
       "      <td>B</td>\n",
       "    </tr>\n",
       "    <tr>\n",
       "      <th>1</th>\n",
       "      <td>1627</td>\n",
       "      <td>A</td>\n",
       "    </tr>\n",
       "    <tr>\n",
       "      <th>2</th>\n",
       "      <td>1768</td>\n",
       "      <td>B</td>\n",
       "    </tr>\n",
       "  </tbody>\n",
       "</table>\n",
       "</div>"
      ],
      "text/plain": [
       "     id grp\n",
       "0  1489   B\n",
       "1  1627   A\n",
       "2  1768   B"
      ]
     },
     "execution_count": 6,
     "metadata": {},
     "output_type": "execute_result"
    }
   ],
   "source": [
    "groups.head(3)"
   ]
  },
  {
   "cell_type": "code",
   "execution_count": 7,
   "metadata": {},
   "outputs": [
    {
     "data": {
      "text/plain": [
       "(74484, 2)"
      ]
     },
     "execution_count": 7,
     "metadata": {},
     "output_type": "execute_result"
    }
   ],
   "source": [
    "groups.shape"
   ]
  },
  {
   "cell_type": "code",
   "execution_count": 8,
   "metadata": {},
   "outputs": [
    {
     "data": {
      "text/plain": [
       "id      int64\n",
       "grp    object\n",
       "dtype: object"
      ]
     },
     "execution_count": 8,
     "metadata": {},
     "output_type": "execute_result"
    }
   ],
   "source": [
    "groups.dtypes"
   ]
  },
  {
   "cell_type": "code",
   "execution_count": 9,
   "metadata": {},
   "outputs": [
    {
     "data": {
      "text/plain": [
       "id     0\n",
       "grp    0\n",
       "dtype: int64"
      ]
     },
     "execution_count": 9,
     "metadata": {},
     "output_type": "execute_result"
    }
   ],
   "source": [
    "groups.isna().sum()"
   ]
  },
  {
   "cell_type": "code",
   "execution_count": 10,
   "metadata": {},
   "outputs": [
    {
     "data": {
      "text/plain": [
       "id     74484\n",
       "grp        2\n",
       "dtype: int64"
      ]
     },
     "execution_count": 10,
     "metadata": {},
     "output_type": "execute_result"
    }
   ],
   "source": [
    "groups.nunique()"
   ]
  },
  {
   "cell_type": "markdown",
   "metadata": {},
   "source": [
    "DataFrame содержит 74484 строки и уникальных значений id тоже 74484 - делаем вывод, что каждая строка в данном DataFrame содержит уникальный id.\n",
    "\n",
    "Тестовых групп 2, как и указано в задании.\n",
    "\n",
    "Пропусков в данных нет.\n",
    "\n",
    "Так как DF содержит уникальные id в каждой строке, то нет необходимости проверять не попал ли в группу А и группу В один и тот же человек."
   ]
  },
  {
   "cell_type": "code",
   "execution_count": null,
   "metadata": {},
   "outputs": [],
   "source": []
  },
  {
   "cell_type": "code",
   "execution_count": null,
   "metadata": {},
   "outputs": [],
   "source": []
  },
  {
   "cell_type": "markdown",
   "metadata": {},
   "source": [
    "#### groups_add.csv \n",
    "дополнительный файл с пользователями, который вам прислали спустя 2 дня после передачи данных"
   ]
  },
  {
   "cell_type": "code",
   "execution_count": 11,
   "metadata": {},
   "outputs": [],
   "source": [
    "# Cсылка для чтения\n",
    "public_key_groups_add = 'https://disk.yandex.ru/d/5Kxrz02m3IBUwQ'  # Сюда пишется ссылка на Я.диск\n",
    "\n",
    "# Получаем загрузочную ссылку\n",
    "final_url_groups_add = base_url + urlencode(dict(public_key=public_key_groups_add))\n",
    "response_groups_add = requests.get(final_url_groups_add)\n",
    "url_groups_add = response_groups_add.json()['href']"
   ]
  },
  {
   "cell_type": "code",
   "execution_count": 12,
   "metadata": {},
   "outputs": [],
   "source": [
    "groups_add = pd.read_csv(url_groups_add)"
   ]
  },
  {
   "cell_type": "markdown",
   "metadata": {},
   "source": [
    "Посмотрим DataFrame: какие данные он содержит, его размер, типы данных, проверим его на наличие NaN и посмотрим число уникальных данных в столбцах"
   ]
  },
  {
   "cell_type": "code",
   "execution_count": 13,
   "metadata": {
    "scrolled": true
   },
   "outputs": [
    {
     "data": {
      "text/html": [
       "<div>\n",
       "<style scoped>\n",
       "    .dataframe tbody tr th:only-of-type {\n",
       "        vertical-align: middle;\n",
       "    }\n",
       "\n",
       "    .dataframe tbody tr th {\n",
       "        vertical-align: top;\n",
       "    }\n",
       "\n",
       "    .dataframe thead th {\n",
       "        text-align: right;\n",
       "    }\n",
       "</style>\n",
       "<table border=\"1\" class=\"dataframe\">\n",
       "  <thead>\n",
       "    <tr style=\"text-align: right;\">\n",
       "      <th></th>\n",
       "      <th>id</th>\n",
       "      <th>grp</th>\n",
       "    </tr>\n",
       "  </thead>\n",
       "  <tbody>\n",
       "    <tr>\n",
       "      <th>0</th>\n",
       "      <td>5694584</td>\n",
       "      <td>B</td>\n",
       "    </tr>\n",
       "    <tr>\n",
       "      <th>1</th>\n",
       "      <td>5694830</td>\n",
       "      <td>B</td>\n",
       "    </tr>\n",
       "    <tr>\n",
       "      <th>2</th>\n",
       "      <td>5695057</td>\n",
       "      <td>B</td>\n",
       "    </tr>\n",
       "  </tbody>\n",
       "</table>\n",
       "</div>"
      ],
      "text/plain": [
       "        id grp\n",
       "0  5694584   B\n",
       "1  5694830   B\n",
       "2  5695057   B"
      ]
     },
     "execution_count": 13,
     "metadata": {},
     "output_type": "execute_result"
    }
   ],
   "source": [
    "groups_add.head(3)"
   ]
  },
  {
   "cell_type": "code",
   "execution_count": 14,
   "metadata": {},
   "outputs": [
    {
     "data": {
      "text/plain": [
       "(92, 2)"
      ]
     },
     "execution_count": 14,
     "metadata": {},
     "output_type": "execute_result"
    }
   ],
   "source": [
    "groups_add.shape"
   ]
  },
  {
   "cell_type": "code",
   "execution_count": 15,
   "metadata": {},
   "outputs": [
    {
     "data": {
      "text/plain": [
       "id      int64\n",
       "grp    object\n",
       "dtype: object"
      ]
     },
     "execution_count": 15,
     "metadata": {},
     "output_type": "execute_result"
    }
   ],
   "source": [
    "groups_add.dtypes"
   ]
  },
  {
   "cell_type": "code",
   "execution_count": 16,
   "metadata": {},
   "outputs": [
    {
     "data": {
      "text/plain": [
       "id     0\n",
       "grp    0\n",
       "dtype: int64"
      ]
     },
     "execution_count": 16,
     "metadata": {},
     "output_type": "execute_result"
    }
   ],
   "source": [
    "groups_add.isna().sum()"
   ]
  },
  {
   "cell_type": "code",
   "execution_count": 17,
   "metadata": {},
   "outputs": [
    {
     "data": {
      "text/plain": [
       "id     92\n",
       "grp     2\n",
       "dtype: int64"
      ]
     },
     "execution_count": 17,
     "metadata": {},
     "output_type": "execute_result"
    }
   ],
   "source": [
    "groups_add.nunique()"
   ]
  },
  {
   "cell_type": "markdown",
   "metadata": {},
   "source": [
    "DataFrame содержит 92 строки и уникальных значений id тоже 92 - делаем вывод, что каждая строка в данном DataFrame содержит уникальный id.\n",
    "\n",
    "Тестовых групп 2, как и указано в задании.\n",
    "\n",
    "Пропусков в данных нет.\n",
    "\n",
    "Так как DF содержит уникальные id в каждой строке, то нет необходимости проверять не попал ли в группу А и группу В один и тот же человек.\n",
    "\n",
    "Дополнительно необходимо проверить не пересекаются ли id в предыдущем DF с текущими id, т.к. типы данных для id в обоих DF одинаковые, то в дополнительных преобразованиях нет необходимости"
   ]
  },
  {
   "cell_type": "code",
   "execution_count": 18,
   "metadata": {},
   "outputs": [
    {
     "data": {
      "text/plain": [
       "set()"
      ]
     },
     "execution_count": 18,
     "metadata": {},
     "output_type": "execute_result"
    }
   ],
   "source": [
    "gr = set(groups.id)\n",
    "gr_add = set(groups_add.id)\n",
    "gr_add.intersection(gr)"
   ]
  },
  {
   "cell_type": "markdown",
   "metadata": {},
   "source": [
    "По результатам проверки не было выявлено пересекающихся id в обоих DF"
   ]
  },
  {
   "cell_type": "code",
   "execution_count": null,
   "metadata": {},
   "outputs": [],
   "source": []
  },
  {
   "cell_type": "code",
   "execution_count": null,
   "metadata": {},
   "outputs": [],
   "source": []
  },
  {
   "cell_type": "markdown",
   "metadata": {},
   "source": [
    "#### active_studs.csv \n",
    "файл с информацией о пользователях, которые зашли на платформу в дни проведения эксперимента. "
   ]
  },
  {
   "cell_type": "code",
   "execution_count": 19,
   "metadata": {},
   "outputs": [],
   "source": [
    "# Cсылка для чтения\n",
    "public_key_active_studs = 'https://disk.yandex.ru/d/Tbs44Bm6H_FwFQ'  # Сюда пишется ссылка на Я.диск\n",
    "\n",
    "# Получаем загрузочную ссылку\n",
    "final_url_active_studs = base_url + urlencode(dict(public_key=public_key_active_studs))\n",
    "response_active_studs = requests.get(final_url_active_studs)\n",
    "url_active_studs = response_active_studs.json()['href']"
   ]
  },
  {
   "cell_type": "code",
   "execution_count": 20,
   "metadata": {},
   "outputs": [],
   "source": [
    "active_studs = pd.read_csv(url_active_studs)"
   ]
  },
  {
   "cell_type": "markdown",
   "metadata": {},
   "source": [
    "Посмотрим DataFrame: какие данные он содержит, его размер, типы данных, проверим его на наличие NaN и посмотрим число уникальных данных в столбцах"
   ]
  },
  {
   "cell_type": "code",
   "execution_count": 21,
   "metadata": {},
   "outputs": [
    {
     "data": {
      "text/html": [
       "<div>\n",
       "<style scoped>\n",
       "    .dataframe tbody tr th:only-of-type {\n",
       "        vertical-align: middle;\n",
       "    }\n",
       "\n",
       "    .dataframe tbody tr th {\n",
       "        vertical-align: top;\n",
       "    }\n",
       "\n",
       "    .dataframe thead th {\n",
       "        text-align: right;\n",
       "    }\n",
       "</style>\n",
       "<table border=\"1\" class=\"dataframe\">\n",
       "  <thead>\n",
       "    <tr style=\"text-align: right;\">\n",
       "      <th></th>\n",
       "      <th>student_id</th>\n",
       "    </tr>\n",
       "  </thead>\n",
       "  <tbody>\n",
       "    <tr>\n",
       "      <th>0</th>\n",
       "      <td>581585</td>\n",
       "    </tr>\n",
       "    <tr>\n",
       "      <th>1</th>\n",
       "      <td>5723133</td>\n",
       "    </tr>\n",
       "    <tr>\n",
       "      <th>2</th>\n",
       "      <td>3276743</td>\n",
       "    </tr>\n",
       "  </tbody>\n",
       "</table>\n",
       "</div>"
      ],
      "text/plain": [
       "   student_id\n",
       "0      581585\n",
       "1     5723133\n",
       "2     3276743"
      ]
     },
     "execution_count": 21,
     "metadata": {},
     "output_type": "execute_result"
    }
   ],
   "source": [
    "active_studs.head(3)"
   ]
  },
  {
   "cell_type": "code",
   "execution_count": 22,
   "metadata": {},
   "outputs": [
    {
     "data": {
      "text/plain": [
       "(8341, 1)"
      ]
     },
     "execution_count": 22,
     "metadata": {},
     "output_type": "execute_result"
    }
   ],
   "source": [
    "active_studs.shape"
   ]
  },
  {
   "cell_type": "code",
   "execution_count": 23,
   "metadata": {},
   "outputs": [
    {
     "data": {
      "text/plain": [
       "student_id    int64\n",
       "dtype: object"
      ]
     },
     "execution_count": 23,
     "metadata": {},
     "output_type": "execute_result"
    }
   ],
   "source": [
    "active_studs.dtypes"
   ]
  },
  {
   "cell_type": "code",
   "execution_count": 24,
   "metadata": {},
   "outputs": [
    {
     "data": {
      "text/plain": [
       "student_id    0\n",
       "dtype: int64"
      ]
     },
     "execution_count": 24,
     "metadata": {},
     "output_type": "execute_result"
    }
   ],
   "source": [
    "active_studs.isna().sum()"
   ]
  },
  {
   "cell_type": "code",
   "execution_count": 25,
   "metadata": {},
   "outputs": [
    {
     "data": {
      "text/plain": [
       "student_id    8341\n",
       "dtype: int64"
      ]
     },
     "execution_count": 25,
     "metadata": {},
     "output_type": "execute_result"
    }
   ],
   "source": [
    "active_studs.nunique()"
   ]
  },
  {
   "cell_type": "markdown",
   "metadata": {},
   "source": [
    "DataFrame содержит 8341 строку и уникальных значений id тоже 3841 - делаем вывод, что каждая строка в данном DataFrame содержит уникальный id.\n",
    "\n",
    "Пропусков в данных нет.\n",
    "\n",
    "id пользователя приведено к тому же типу данных, что и в других DF, в дополнительных преобразованиях нет необходимости"
   ]
  },
  {
   "cell_type": "code",
   "execution_count": null,
   "metadata": {},
   "outputs": [],
   "source": []
  },
  {
   "cell_type": "code",
   "execution_count": null,
   "metadata": {},
   "outputs": [],
   "source": []
  },
  {
   "cell_type": "markdown",
   "metadata": {},
   "source": [
    "#### checks.csv \n",
    "файл с информацией об оплатах пользователей в дни проведения эксперимента. "
   ]
  },
  {
   "cell_type": "code",
   "execution_count": 26,
   "metadata": {},
   "outputs": [],
   "source": [
    "# Cсылка для чтения\n",
    "public_key_checks = 'https://disk.yandex.ru/d/pH1q-VqcxXjsVA'  # Сюда пишется ссылка на Я.диск\n",
    "\n",
    "# Получаем загрузочную ссылку\n",
    "final_url_checks = base_url + urlencode(dict(public_key=public_key_checks))\n",
    "response_checks = requests.get(final_url_checks)\n",
    "url_checks = response_checks.json()['href']"
   ]
  },
  {
   "cell_type": "code",
   "execution_count": 27,
   "metadata": {},
   "outputs": [],
   "source": [
    "checks = pd.read_csv(url_checks, sep=';')"
   ]
  },
  {
   "cell_type": "markdown",
   "metadata": {},
   "source": [
    "Посмотрим DataFrame: какие данные он содержит, его размер, типы данных, проверим его на наличие NaN и посмотрим число уникальных данных в столбцах"
   ]
  },
  {
   "cell_type": "code",
   "execution_count": 28,
   "metadata": {},
   "outputs": [
    {
     "data": {
      "text/html": [
       "<div>\n",
       "<style scoped>\n",
       "    .dataframe tbody tr th:only-of-type {\n",
       "        vertical-align: middle;\n",
       "    }\n",
       "\n",
       "    .dataframe tbody tr th {\n",
       "        vertical-align: top;\n",
       "    }\n",
       "\n",
       "    .dataframe thead th {\n",
       "        text-align: right;\n",
       "    }\n",
       "</style>\n",
       "<table border=\"1\" class=\"dataframe\">\n",
       "  <thead>\n",
       "    <tr style=\"text-align: right;\">\n",
       "      <th></th>\n",
       "      <th>student_id</th>\n",
       "      <th>rev</th>\n",
       "    </tr>\n",
       "  </thead>\n",
       "  <tbody>\n",
       "    <tr>\n",
       "      <th>0</th>\n",
       "      <td>1627</td>\n",
       "      <td>990.0</td>\n",
       "    </tr>\n",
       "    <tr>\n",
       "      <th>1</th>\n",
       "      <td>3185</td>\n",
       "      <td>690.0</td>\n",
       "    </tr>\n",
       "    <tr>\n",
       "      <th>2</th>\n",
       "      <td>25973</td>\n",
       "      <td>690.0</td>\n",
       "    </tr>\n",
       "  </tbody>\n",
       "</table>\n",
       "</div>"
      ],
      "text/plain": [
       "   student_id    rev\n",
       "0        1627  990.0\n",
       "1        3185  690.0\n",
       "2       25973  690.0"
      ]
     },
     "execution_count": 28,
     "metadata": {},
     "output_type": "execute_result"
    }
   ],
   "source": [
    "checks.head(3)"
   ]
  },
  {
   "cell_type": "code",
   "execution_count": 29,
   "metadata": {},
   "outputs": [
    {
     "data": {
      "text/plain": [
       "(541, 2)"
      ]
     },
     "execution_count": 29,
     "metadata": {},
     "output_type": "execute_result"
    }
   ],
   "source": [
    "checks.shape"
   ]
  },
  {
   "cell_type": "code",
   "execution_count": 30,
   "metadata": {},
   "outputs": [
    {
     "data": {
      "text/plain": [
       "student_id      int64\n",
       "rev           float64\n",
       "dtype: object"
      ]
     },
     "execution_count": 30,
     "metadata": {},
     "output_type": "execute_result"
    }
   ],
   "source": [
    "checks.dtypes"
   ]
  },
  {
   "cell_type": "code",
   "execution_count": 31,
   "metadata": {},
   "outputs": [
    {
     "data": {
      "text/plain": [
       "student_id    0\n",
       "rev           0\n",
       "dtype: int64"
      ]
     },
     "execution_count": 31,
     "metadata": {},
     "output_type": "execute_result"
    }
   ],
   "source": [
    "checks.isna().sum()"
   ]
  },
  {
   "cell_type": "code",
   "execution_count": 32,
   "metadata": {},
   "outputs": [
    {
     "data": {
      "text/plain": [
       "student_id    541\n",
       "rev            39\n",
       "dtype: int64"
      ]
     },
     "execution_count": 32,
     "metadata": {},
     "output_type": "execute_result"
    }
   ],
   "source": [
    "checks.nunique()"
   ]
  },
  {
   "cell_type": "markdown",
   "metadata": {},
   "source": [
    "DataFrame содержит 541 строку и уникальных значений id тоже 541 - делаем вывод, что каждая строка в данном DataFrame содержит уникальный id.\n",
    "\n",
    "Пропусков в данных нет.\n",
    "\n",
    "id пользователя приведено к тому же типу данных, что и в других DF, в дополнительных преобразованиях нет необходимости\n",
    "\n",
    "Столбец rev - предположительно это Revenue соодержит числовые данные в формате float64 - данный формат подходит для вычислений,  в дополнительных преобразованиях нет необходимости"
   ]
  },
  {
   "cell_type": "code",
   "execution_count": null,
   "metadata": {},
   "outputs": [],
   "source": []
  },
  {
   "cell_type": "code",
   "execution_count": null,
   "metadata": {},
   "outputs": [],
   "source": []
  },
  {
   "cell_type": "markdown",
   "metadata": {},
   "source": [
    "Дополнительно проверим, возможно ли такое, что человек совершил покупку, но при этом не проявлял активность в течении периода эксперимента"
   ]
  },
  {
   "cell_type": "code",
   "execution_count": 33,
   "metadata": {},
   "outputs": [
    {
     "data": {
      "text/html": [
       "<div>\n",
       "<style scoped>\n",
       "    .dataframe tbody tr th:only-of-type {\n",
       "        vertical-align: middle;\n",
       "    }\n",
       "\n",
       "    .dataframe tbody tr th {\n",
       "        vertical-align: top;\n",
       "    }\n",
       "\n",
       "    .dataframe thead th {\n",
       "        text-align: right;\n",
       "    }\n",
       "</style>\n",
       "<table border=\"1\" class=\"dataframe\">\n",
       "  <thead>\n",
       "    <tr style=\"text-align: right;\">\n",
       "      <th></th>\n",
       "      <th>student_id</th>\n",
       "      <th>rev</th>\n",
       "    </tr>\n",
       "  </thead>\n",
       "  <tbody>\n",
       "    <tr>\n",
       "      <th>1</th>\n",
       "      <td>3185</td>\n",
       "      <td>690.0</td>\n",
       "    </tr>\n",
       "    <tr>\n",
       "      <th>2</th>\n",
       "      <td>25973</td>\n",
       "      <td>690.0</td>\n",
       "    </tr>\n",
       "    <tr>\n",
       "      <th>3</th>\n",
       "      <td>26280</td>\n",
       "      <td>690.0</td>\n",
       "    </tr>\n",
       "    <tr>\n",
       "      <th>5</th>\n",
       "      <td>100645</td>\n",
       "      <td>630.0</td>\n",
       "    </tr>\n",
       "    <tr>\n",
       "      <th>6</th>\n",
       "      <td>102534</td>\n",
       "      <td>580.0</td>\n",
       "    </tr>\n",
       "    <tr>\n",
       "      <th>...</th>\n",
       "      <td>...</td>\n",
       "      <td>...</td>\n",
       "    </tr>\n",
       "    <tr>\n",
       "      <th>508</th>\n",
       "      <td>5291900</td>\n",
       "      <td>199.0</td>\n",
       "    </tr>\n",
       "    <tr>\n",
       "      <th>512</th>\n",
       "      <td>5331842</td>\n",
       "      <td>290.0</td>\n",
       "    </tr>\n",
       "    <tr>\n",
       "      <th>521</th>\n",
       "      <td>5486319</td>\n",
       "      <td>199.0</td>\n",
       "    </tr>\n",
       "    <tr>\n",
       "      <th>530</th>\n",
       "      <td>5562806</td>\n",
       "      <td>398.0</td>\n",
       "    </tr>\n",
       "    <tr>\n",
       "      <th>534</th>\n",
       "      <td>5599663</td>\n",
       "      <td>1900.0</td>\n",
       "    </tr>\n",
       "  </tbody>\n",
       "</table>\n",
       "<p>149 rows × 2 columns</p>\n",
       "</div>"
      ],
      "text/plain": [
       "     student_id     rev\n",
       "1          3185   690.0\n",
       "2         25973   690.0\n",
       "3         26280   690.0\n",
       "5        100645   630.0\n",
       "6        102534   580.0\n",
       "..          ...     ...\n",
       "508     5291900   199.0\n",
       "512     5331842   290.0\n",
       "521     5486319   199.0\n",
       "530     5562806   398.0\n",
       "534     5599663  1900.0\n",
       "\n",
       "[149 rows x 2 columns]"
      ]
     },
     "execution_count": 33,
     "metadata": {},
     "output_type": "execute_result"
    }
   ],
   "source": [
    "checks.query(\"student_id not in @active_studs.student_id\")"
   ]
  },
  {
   "cell_type": "markdown",
   "metadata": {},
   "source": [
    "Как видно из запроса - возможна ситуация, когда человек не проявлял активность, но покупку совершил. Т.к. у нас нет возможности задать вопросы и уточнить как такое может быть и в чем специфика процесса, на основании которого мы получили эти данные, предлагаем просто в дальнейшем учитывать этот нюанс без более глубоких пояснений"
   ]
  },
  {
   "cell_type": "code",
   "execution_count": null,
   "metadata": {},
   "outputs": [],
   "source": []
  },
  {
   "cell_type": "code",
   "execution_count": null,
   "metadata": {},
   "outputs": [],
   "source": []
  },
  {
   "cell_type": "markdown",
   "metadata": {},
   "source": [
    "Также необходимо сцепить два DF groups и groups_add. На данном этапе мы не можем выяснить почему DF был прислан позднее и повлияет ли это на эскперимент. При ознакомлении с данными не было выявлено никаких нестыковок, дублирований и отсутствующих данных. Также не было выявлено, что данные 2 DF критически отличаются друг от друга. id из дополнительного ДФ также имеются в других ДФ, а именно checks и active studs . Дополнительно я попыталась проанализировать DF по отдельности, но не выявила никаких явных различий, а также не хватает данных для того, чтобы понять равнозначны ли DF или нет. \n",
    "\n",
    "Поэтому мы принимаем решение объединить их в один."
   ]
  },
  {
   "cell_type": "code",
   "execution_count": 34,
   "metadata": {},
   "outputs": [],
   "source": [
    "groups_all = pd.concat([groups, groups_add], axis=0)"
   ]
  },
  {
   "cell_type": "code",
   "execution_count": 35,
   "metadata": {},
   "outputs": [
    {
     "data": {
      "text/plain": [
       "74576"
      ]
     },
     "execution_count": 35,
     "metadata": {},
     "output_type": "execute_result"
    }
   ],
   "source": [
    "groups.shape[0] + groups_add.shape[0]  # проверяем не потерялись ли строки"
   ]
  },
  {
   "cell_type": "code",
   "execution_count": 36,
   "metadata": {},
   "outputs": [
    {
     "data": {
      "text/plain": [
       "(74576, 2)"
      ]
     },
     "execution_count": 36,
     "metadata": {},
     "output_type": "execute_result"
    }
   ],
   "source": [
    "groups_all.shape"
   ]
  },
  {
   "cell_type": "code",
   "execution_count": 37,
   "metadata": {},
   "outputs": [
    {
     "data": {
      "text/html": [
       "<div>\n",
       "<style scoped>\n",
       "    .dataframe tbody tr th:only-of-type {\n",
       "        vertical-align: middle;\n",
       "    }\n",
       "\n",
       "    .dataframe tbody tr th {\n",
       "        vertical-align: top;\n",
       "    }\n",
       "\n",
       "    .dataframe thead th {\n",
       "        text-align: right;\n",
       "    }\n",
       "</style>\n",
       "<table border=\"1\" class=\"dataframe\">\n",
       "  <thead>\n",
       "    <tr style=\"text-align: right;\">\n",
       "      <th></th>\n",
       "      <th>id</th>\n",
       "      <th>grp</th>\n",
       "    </tr>\n",
       "  </thead>\n",
       "  <tbody>\n",
       "    <tr>\n",
       "      <th>0</th>\n",
       "      <td>1489</td>\n",
       "      <td>B</td>\n",
       "    </tr>\n",
       "    <tr>\n",
       "      <th>1</th>\n",
       "      <td>1627</td>\n",
       "      <td>A</td>\n",
       "    </tr>\n",
       "    <tr>\n",
       "      <th>2</th>\n",
       "      <td>1768</td>\n",
       "      <td>B</td>\n",
       "    </tr>\n",
       "  </tbody>\n",
       "</table>\n",
       "</div>"
      ],
      "text/plain": [
       "     id grp\n",
       "0  1489   B\n",
       "1  1627   A\n",
       "2  1768   B"
      ]
     },
     "execution_count": 37,
     "metadata": {},
     "output_type": "execute_result"
    }
   ],
   "source": [
    "groups_all.head(3)"
   ]
  },
  {
   "cell_type": "code",
   "execution_count": 38,
   "metadata": {},
   "outputs": [
    {
     "data": {
      "text/plain": [
       "id      int64\n",
       "grp    object\n",
       "dtype: object"
      ]
     },
     "execution_count": 38,
     "metadata": {},
     "output_type": "execute_result"
    }
   ],
   "source": [
    "groups_all.dtypes"
   ]
  },
  {
   "cell_type": "markdown",
   "metadata": {},
   "source": [
    "Контрольная сумма по строкам сошлась, все типы данных на месте. Далее мы будем работать с объединенным DF"
   ]
  },
  {
   "cell_type": "code",
   "execution_count": null,
   "metadata": {},
   "outputs": [],
   "source": []
  },
  {
   "cell_type": "code",
   "execution_count": null,
   "metadata": {},
   "outputs": [],
   "source": []
  },
  {
   "cell_type": "markdown",
   "metadata": {},
   "source": [
    "## 1.3 Вопросы\n",
    "\n",
    "Предлагаем Вам ответить на следующие вопросы:   \n",
    "На какие метрики Вы смотрите в ходе анализа и почему?      \n",
    "Имеются ли различия в показателях и с чем они могут быть связаны?      \n",
    "Являются ли эти различия статистически значимыми?     \n",
    "Стоит ли запускать новую механику на всех пользователей?       \n",
    "Данный список вопросов не является обязательным, и Вы можете при своём ответе опираться на собственный план.     "
   ]
  },
  {
   "cell_type": "markdown",
   "metadata": {},
   "source": [
    "### Метрики\n",
    "В ходе исследования исходных данных были сделаны следующие заключения:     \n",
    "- у нас есть информация о следующей воронке: регистрация (присвоение id) -> активность -> покупка;    \n",
    "- есть информация о сумме покупок (выручке) с каждого покупателя;\n",
    "- есть пользователи, которые не были активны в период эксперимента, но сделали покупку. Возможно, это был автоплатеж, для чистоты эксперимента предлагаем учитывать только пользователей, которые были активны в период проведения теста.\n",
    "\n",
    "Исходя из информации, собранной выше, мной были отобраны две метрики:       \n",
    "1 Конверсия пользователей, которые были активны в период проведения теста, в покупателя (относительная конверсия).     \n",
    "2 ARPAU - средний доход с активного пользователя\n",
    "\n",
    "Первая метрика была выбрана из предположения, что упрощение оплаты приведен к тому, что бОльшее количество человек будет оплачивать.\n",
    "Вторая метрика была выбрана из предположения, что упрощение механики оплаты - увеличит число заказов у пользователя, соответственно, увеличится сумма его покупок. Т.к. у нас нет данных по количеству покупок, а также стоимости каждой покупки на пользователя, а дана только общая сумма покупок за весь период тестирования - единственное, что мы можем сравнить, это сумма покупок каждого пользателя в двух группах."
   ]
  },
  {
   "cell_type": "markdown",
   "metadata": {},
   "source": [
    "#### 1 Относительная конверсия   активных пользователей\n",
    "(активность -> покупка)"
   ]
  },
  {
   "cell_type": "code",
   "execution_count": 39,
   "metadata": {},
   "outputs": [],
   "source": [
    "# создаем столбец с фактом активности или ее отсутствием\n",
    "groups_all['is_active'] = groups['id'].isin(active_studs.student_id).astype(int) "
   ]
  },
  {
   "cell_type": "code",
   "execution_count": 40,
   "metadata": {},
   "outputs": [],
   "source": [
    "# создаем столбец с фактом покупки или ее отсутствия (0 - нет покупок, 1 - есть покупки)\n",
    "groups_all['is_purchase'] = groups_all['id'].isin(checks.student_id).astype(int) "
   ]
  },
  {
   "cell_type": "code",
   "execution_count": 41,
   "metadata": {
    "scrolled": true
   },
   "outputs": [
    {
     "data": {
      "text/html": [
       "<div>\n",
       "<style scoped>\n",
       "    .dataframe tbody tr th:only-of-type {\n",
       "        vertical-align: middle;\n",
       "    }\n",
       "\n",
       "    .dataframe tbody tr th {\n",
       "        vertical-align: top;\n",
       "    }\n",
       "\n",
       "    .dataframe thead th {\n",
       "        text-align: right;\n",
       "    }\n",
       "</style>\n",
       "<table border=\"1\" class=\"dataframe\">\n",
       "  <thead>\n",
       "    <tr style=\"text-align: right;\">\n",
       "      <th></th>\n",
       "      <th>id</th>\n",
       "      <th>grp</th>\n",
       "      <th>is_active</th>\n",
       "      <th>is_purchase</th>\n",
       "    </tr>\n",
       "  </thead>\n",
       "  <tbody>\n",
       "    <tr>\n",
       "      <th>0</th>\n",
       "      <td>1489</td>\n",
       "      <td>B</td>\n",
       "      <td>0</td>\n",
       "      <td>0</td>\n",
       "    </tr>\n",
       "    <tr>\n",
       "      <th>1</th>\n",
       "      <td>1627</td>\n",
       "      <td>A</td>\n",
       "      <td>1</td>\n",
       "      <td>1</td>\n",
       "    </tr>\n",
       "    <tr>\n",
       "      <th>2</th>\n",
       "      <td>1768</td>\n",
       "      <td>B</td>\n",
       "      <td>0</td>\n",
       "      <td>0</td>\n",
       "    </tr>\n",
       "  </tbody>\n",
       "</table>\n",
       "</div>"
      ],
      "text/plain": [
       "     id grp  is_active  is_purchase\n",
       "0  1489   B          0            0\n",
       "1  1627   A          1            1\n",
       "2  1768   B          0            0"
      ]
     },
     "execution_count": 41,
     "metadata": {},
     "output_type": "execute_result"
    }
   ],
   "source": [
    "groups_all.head(3)"
   ]
  },
  {
   "cell_type": "code",
   "execution_count": 42,
   "metadata": {},
   "outputs": [
    {
     "data": {
      "text/html": [
       "<div>\n",
       "<style scoped>\n",
       "    .dataframe tbody tr th:only-of-type {\n",
       "        vertical-align: middle;\n",
       "    }\n",
       "\n",
       "    .dataframe tbody tr th {\n",
       "        vertical-align: top;\n",
       "    }\n",
       "\n",
       "    .dataframe thead th {\n",
       "        text-align: right;\n",
       "    }\n",
       "</style>\n",
       "<table border=\"1\" class=\"dataframe\">\n",
       "  <thead>\n",
       "    <tr style=\"text-align: right;\">\n",
       "      <th>is_purchase</th>\n",
       "      <th>0</th>\n",
       "      <th>1</th>\n",
       "    </tr>\n",
       "    <tr>\n",
       "      <th>grp</th>\n",
       "      <th></th>\n",
       "      <th></th>\n",
       "    </tr>\n",
       "  </thead>\n",
       "  <tbody>\n",
       "    <tr>\n",
       "      <th>A</th>\n",
       "      <td>1457</td>\n",
       "      <td>78</td>\n",
       "    </tr>\n",
       "    <tr>\n",
       "      <th>B</th>\n",
       "      <td>6485</td>\n",
       "      <td>313</td>\n",
       "    </tr>\n",
       "  </tbody>\n",
       "</table>\n",
       "</div>"
      ],
      "text/plain": [
       "is_purchase     0    1\n",
       "grp                   \n",
       "A            1457   78\n",
       "B            6485  313"
      ]
     },
     "execution_count": 42,
     "metadata": {},
     "output_type": "execute_result"
    }
   ],
   "source": [
    "# отберем только активных пользователей и посмотрим как выглядит общее соотношение в группах А и В\n",
    "CR_relative = pd.crosstab(\n",
    "    groups_all.query(\"is_active == 1\").grp, \n",
    "    groups_all.query(\"is_active == 1\").is_purchase\n",
    ")\n",
    "CR_relative"
   ]
  },
  {
   "cell_type": "code",
   "execution_count": 43,
   "metadata": {},
   "outputs": [
    {
     "data": {
      "text/html": [
       "<div>\n",
       "<style scoped>\n",
       "    .dataframe tbody tr th:only-of-type {\n",
       "        vertical-align: middle;\n",
       "    }\n",
       "\n",
       "    .dataframe tbody tr th {\n",
       "        vertical-align: top;\n",
       "    }\n",
       "\n",
       "    .dataframe thead th {\n",
       "        text-align: right;\n",
       "    }\n",
       "</style>\n",
       "<table border=\"1\" class=\"dataframe\">\n",
       "  <thead>\n",
       "    <tr style=\"text-align: right;\">\n",
       "      <th>is_purchase</th>\n",
       "      <th>0</th>\n",
       "      <th>1</th>\n",
       "      <th>CR_percent</th>\n",
       "    </tr>\n",
       "    <tr>\n",
       "      <th>grp</th>\n",
       "      <th></th>\n",
       "      <th></th>\n",
       "      <th></th>\n",
       "    </tr>\n",
       "  </thead>\n",
       "  <tbody>\n",
       "    <tr>\n",
       "      <th>A</th>\n",
       "      <td>1457</td>\n",
       "      <td>78</td>\n",
       "      <td>5.353466</td>\n",
       "    </tr>\n",
       "    <tr>\n",
       "      <th>B</th>\n",
       "      <td>6485</td>\n",
       "      <td>313</td>\n",
       "      <td>4.826523</td>\n",
       "    </tr>\n",
       "  </tbody>\n",
       "</table>\n",
       "</div>"
      ],
      "text/plain": [
       "is_purchase     0    1  CR_percent\n",
       "grp                               \n",
       "A            1457   78    5.353466\n",
       "B            6485  313    4.826523"
      ]
     },
     "execution_count": 43,
     "metadata": {},
     "output_type": "execute_result"
    }
   ],
   "source": [
    "CR_relative['CR_percent'] = (CR_relative[1] / CR_relative[0]) * 100  # вычислим значение конверсии для каждой группы\n",
    "CR_relative"
   ]
  },
  {
   "cell_type": "code",
   "execution_count": 44,
   "metadata": {},
   "outputs": [
    {
     "data": {
      "text/plain": [
       "grp\n",
       "A         NaN\n",
       "B   -0.526943\n",
       "Name: CR_percent, dtype: float64"
      ]
     },
     "execution_count": 44,
     "metadata": {},
     "output_type": "execute_result"
    }
   ],
   "source": [
    "CR_relative.CR_percent.diff()  # разница между конверсиями в группе А и В"
   ]
  },
  {
   "cell_type": "markdown",
   "metadata": {},
   "source": [
    "Согласно расчетам конверсия в группе В также меньше, чем в групе A. Разница составляет примерно 0,53 %. Предположительно нововведение может оказать негативное влияние на данную метрику.\n",
    "\n",
    "Проверим является ли это изменение статистически значимым.      \n",
    "Так как при расчете метрики мы используем категориальные переменные - факт покупки и отношение к группе А или В, то мы воспользуемся тестом хи-квадрат. \n",
    "\n",
    "Сформируем гипотезы:     \n",
    "H0 - В конверсии активного пользователя в покупателя ничего не изменилось, результат случайный.      \n",
    "H1 - Изменение в конверсии активного пользователя в покупателя значимо, пользователи стали реже покупать.\n",
    "\n",
    "Здесь и далее при проверке гипотез принимаем порог для отклонения нулевой гипотезы p-value=0.05 (5%)"
   ]
  },
  {
   "cell_type": "code",
   "execution_count": 45,
   "metadata": {},
   "outputs": [
    {
     "data": {
      "text/html": [
       "<div>\n",
       "<style scoped>\n",
       "    .dataframe tbody tr th:only-of-type {\n",
       "        vertical-align: middle;\n",
       "    }\n",
       "\n",
       "    .dataframe tbody tr th {\n",
       "        vertical-align: top;\n",
       "    }\n",
       "\n",
       "    .dataframe thead th {\n",
       "        text-align: right;\n",
       "    }\n",
       "</style>\n",
       "<table border=\"1\" class=\"dataframe\">\n",
       "  <thead>\n",
       "    <tr style=\"text-align: right;\">\n",
       "      <th></th>\n",
       "      <th>test</th>\n",
       "      <th>lambda</th>\n",
       "      <th>chi2</th>\n",
       "      <th>dof</th>\n",
       "      <th>pval</th>\n",
       "      <th>cramer</th>\n",
       "      <th>power</th>\n",
       "    </tr>\n",
       "  </thead>\n",
       "  <tbody>\n",
       "    <tr>\n",
       "      <th>0</th>\n",
       "      <td>pearson</td>\n",
       "      <td>1.000000</td>\n",
       "      <td>9.644449</td>\n",
       "      <td>1.0</td>\n",
       "      <td>0.001899</td>\n",
       "      <td>0.011372</td>\n",
       "      <td>0.874017</td>\n",
       "    </tr>\n",
       "    <tr>\n",
       "      <th>1</th>\n",
       "      <td>cressie-read</td>\n",
       "      <td>0.666667</td>\n",
       "      <td>9.691328</td>\n",
       "      <td>1.0</td>\n",
       "      <td>0.001851</td>\n",
       "      <td>0.011400</td>\n",
       "      <td>0.875571</td>\n",
       "    </tr>\n",
       "    <tr>\n",
       "      <th>2</th>\n",
       "      <td>log-likelihood</td>\n",
       "      <td>0.000000</td>\n",
       "      <td>9.786809</td>\n",
       "      <td>1.0</td>\n",
       "      <td>0.001758</td>\n",
       "      <td>0.011456</td>\n",
       "      <td>0.878682</td>\n",
       "    </tr>\n",
       "    <tr>\n",
       "      <th>3</th>\n",
       "      <td>freeman-tukey</td>\n",
       "      <td>-0.500000</td>\n",
       "      <td>9.859957</td>\n",
       "      <td>1.0</td>\n",
       "      <td>0.001689</td>\n",
       "      <td>0.011498</td>\n",
       "      <td>0.881019</td>\n",
       "    </tr>\n",
       "    <tr>\n",
       "      <th>4</th>\n",
       "      <td>mod-log-likelihood</td>\n",
       "      <td>-1.000000</td>\n",
       "      <td>9.934452</td>\n",
       "      <td>1.0</td>\n",
       "      <td>0.001622</td>\n",
       "      <td>0.011542</td>\n",
       "      <td>0.883356</td>\n",
       "    </tr>\n",
       "    <tr>\n",
       "      <th>5</th>\n",
       "      <td>neyman</td>\n",
       "      <td>-2.000000</td>\n",
       "      <td>10.087589</td>\n",
       "      <td>1.0</td>\n",
       "      <td>0.001493</td>\n",
       "      <td>0.011630</td>\n",
       "      <td>0.888033</td>\n",
       "    </tr>\n",
       "  </tbody>\n",
       "</table>\n",
       "</div>"
      ],
      "text/plain": [
       "                 test    lambda       chi2  dof      pval    cramer     power\n",
       "0             pearson  1.000000   9.644449  1.0  0.001899  0.011372  0.874017\n",
       "1        cressie-read  0.666667   9.691328  1.0  0.001851  0.011400  0.875571\n",
       "2      log-likelihood  0.000000   9.786809  1.0  0.001758  0.011456  0.878682\n",
       "3       freeman-tukey -0.500000   9.859957  1.0  0.001689  0.011498  0.881019\n",
       "4  mod-log-likelihood -1.000000   9.934452  1.0  0.001622  0.011542  0.883356\n",
       "5              neyman -2.000000  10.087589  1.0  0.001493  0.011630  0.888033"
      ]
     },
     "execution_count": 45,
     "metadata": {},
     "output_type": "execute_result"
    }
   ],
   "source": [
    "exp, obs, stat = pg.chi2_independence(data=groups_all, x='grp', y='is_active')\n",
    "stat"
   ]
  },
  {
   "cell_type": "markdown",
   "metadata": {},
   "source": [
    "Данный тест подсчитывает хи квадрат несколькими вариантами. Как видно из результатов, все тесты примерно имеют один и тот же результат.    \n",
    "Посмотрим на 2 показателя:   \n",
    "1 pval - p-уровень значимости. Здесь он составляет примерно 0,0019 (0,19 %) - значение ниже порогового значения p-value принятого выше. Соответственно, у нас есть все основания отклонить нулевую гипотезу.   \n",
    "2 cramer - вариант коэффициента корреляции. Чем ближе коэффциент к 1 - тем выше влияние. В данном случае значения очень небольшие, и ближе к 0, чем к единице. Очень низкий уровень корреляции данных.\n",
    "\n",
    "#### Считаем, что с бОльшей вероятностью, изменения между группами А и В в части относительной конверсии статистически значимы. Также отметим негативный эффект в метрике относительной конверсии в части нововведений."
   ]
  },
  {
   "cell_type": "code",
   "execution_count": null,
   "metadata": {},
   "outputs": [],
   "source": []
  },
  {
   "cell_type": "code",
   "execution_count": null,
   "metadata": {},
   "outputs": [],
   "source": []
  },
  {
   "cell_type": "markdown",
   "metadata": {},
   "source": [
    "#### 2 ARPAU - средний доход с активного пользователя"
   ]
  },
  {
   "cell_type": "markdown",
   "metadata": {},
   "source": [
    "Отберем только активных в период проведения теста пользователей, затем объединим ДФ с информацией об оплатах"
   ]
  },
  {
   "cell_type": "code",
   "execution_count": 46,
   "metadata": {},
   "outputs": [
    {
     "data": {
      "text/html": [
       "<div>\n",
       "<style scoped>\n",
       "    .dataframe tbody tr th:only-of-type {\n",
       "        vertical-align: middle;\n",
       "    }\n",
       "\n",
       "    .dataframe tbody tr th {\n",
       "        vertical-align: top;\n",
       "    }\n",
       "\n",
       "    .dataframe thead th {\n",
       "        text-align: right;\n",
       "    }\n",
       "</style>\n",
       "<table border=\"1\" class=\"dataframe\">\n",
       "  <thead>\n",
       "    <tr style=\"text-align: right;\">\n",
       "      <th></th>\n",
       "      <th>id</th>\n",
       "      <th>grp</th>\n",
       "      <th>rev</th>\n",
       "    </tr>\n",
       "  </thead>\n",
       "  <tbody>\n",
       "    <tr>\n",
       "      <th>0</th>\n",
       "      <td>1627</td>\n",
       "      <td>A</td>\n",
       "      <td>990.0</td>\n",
       "    </tr>\n",
       "    <tr>\n",
       "      <th>1</th>\n",
       "      <td>2085</td>\n",
       "      <td>B</td>\n",
       "      <td>0.0</td>\n",
       "    </tr>\n",
       "    <tr>\n",
       "      <th>2</th>\n",
       "      <td>2215</td>\n",
       "      <td>B</td>\n",
       "      <td>0.0</td>\n",
       "    </tr>\n",
       "  </tbody>\n",
       "</table>\n",
       "</div>"
      ],
      "text/plain": [
       "     id grp    rev\n",
       "0  1627   A  990.0\n",
       "1  2085   B    0.0\n",
       "2  2215   B    0.0"
      ]
     },
     "execution_count": 46,
     "metadata": {},
     "output_type": "execute_result"
    }
   ],
   "source": [
    "checks_all = groups_all.query(\"is_active == 1\")[['id', 'grp']] \\\n",
    "    .merge(checks, how='left', left_on='id', right_on='student_id') \\\n",
    "    .drop('student_id', axis=1).fillna(0)\n",
    "checks_all.head(3)"
   ]
  },
  {
   "cell_type": "code",
   "execution_count": 47,
   "metadata": {
    "scrolled": false
   },
   "outputs": [
    {
     "data": {
      "text/plain": [
       "<matplotlib.axes._subplots.AxesSubplot at 0x7f36a1f8d4a8>"
      ]
     },
     "execution_count": 47,
     "metadata": {},
     "output_type": "execute_result"
    },
    {
     "data": {
      "image/png": "[encoded data removed]",
      "text/plain": [
       "<Figure size 1440x504 with 1 Axes>"
      ]
     },
     "metadata": {},
     "output_type": "display_data"
    }
   ],
   "source": [
    "# визуализируем распределение суммы покупок на активного пользователя внутри групп\n",
    "sns.histplot(data=checks_all, x='rev', hue='grp')"
   ]
  },
  {
   "cell_type": "markdown",
   "metadata": {},
   "source": [
    "Как видно на визуализации данных - оба распределения не являются нормальными. \n",
    "\n",
    "Для более точного сравнения, посмотрим как изменился ARPAU в двух группах"
   ]
  },
  {
   "cell_type": "code",
   "execution_count": 48,
   "metadata": {},
   "outputs": [],
   "source": [
    "# посчитаем ARPAU по группам \n",
    "ARPAU_all = checks_all.groupby('grp', as_index=False).agg(revenue=('rev', 'sum'), quantity=('id', 'count'))"
   ]
  },
  {
   "cell_type": "code",
   "execution_count": 49,
   "metadata": {},
   "outputs": [],
   "source": [
    "ARPAU_all['ARPAU'] = ARPAU_all.revenue / ARPAU_all.quantity"
   ]
  },
  {
   "cell_type": "code",
   "execution_count": 50,
   "metadata": {},
   "outputs": [
    {
     "data": {
      "text/html": [
       "<div>\n",
       "<style scoped>\n",
       "    .dataframe tbody tr th:only-of-type {\n",
       "        vertical-align: middle;\n",
       "    }\n",
       "\n",
       "    .dataframe tbody tr th {\n",
       "        vertical-align: top;\n",
       "    }\n",
       "\n",
       "    .dataframe thead th {\n",
       "        text-align: right;\n",
       "    }\n",
       "</style>\n",
       "<table border=\"1\" class=\"dataframe\">\n",
       "  <thead>\n",
       "    <tr style=\"text-align: right;\">\n",
       "      <th></th>\n",
       "      <th>grp</th>\n",
       "      <th>revenue</th>\n",
       "      <th>quantity</th>\n",
       "      <th>ARPAU</th>\n",
       "    </tr>\n",
       "  </thead>\n",
       "  <tbody>\n",
       "    <tr>\n",
       "      <th>0</th>\n",
       "      <td>A</td>\n",
       "      <td>72820.0000</td>\n",
       "      <td>1535</td>\n",
       "      <td>47.439739</td>\n",
       "    </tr>\n",
       "    <tr>\n",
       "      <th>1</th>\n",
       "      <td>B</td>\n",
       "      <td>393074.0035</td>\n",
       "      <td>6798</td>\n",
       "      <td>57.822007</td>\n",
       "    </tr>\n",
       "  </tbody>\n",
       "</table>\n",
       "</div>"
      ],
      "text/plain": [
       "  grp      revenue  quantity      ARPAU\n",
       "0   A   72820.0000      1535  47.439739\n",
       "1   B  393074.0035      6798  57.822007"
      ]
     },
     "execution_count": 50,
     "metadata": {},
     "output_type": "execute_result"
    }
   ],
   "source": [
    "ARPAU_all"
   ]
  },
  {
   "cell_type": "code",
   "execution_count": 51,
   "metadata": {},
   "outputs": [
    {
     "data": {
      "text/plain": [
       "21.885169906043767"
      ]
     },
     "execution_count": 51,
     "metadata": {},
     "output_type": "execute_result"
    }
   ],
   "source": [
    "ARPAU_percent = (ARPAU_all.ARPAU[1] - ARPAU_all.ARPAU[0]) / ARPAU_all.ARPAU[0] * 100\n",
    "ARPAU_percent "
   ]
  },
  {
   "cell_type": "markdown",
   "metadata": {},
   "source": [
    "Мы видим, что ARPAU в тестовой группе В увеличился на 21,9 % в сравнении с ARPAU в контрольной группе А. Метрика изменилась в положительную сторону."
   ]
  },
  {
   "cell_type": "markdown",
   "metadata": {},
   "source": [
    "Проверим являются ли эти изменения статистически значимимыми.     \n",
    "Исходя из того, что распределение ненормальное, а данные являются количественными для определения статистической значимости, а также принимая во внимание то, что мы сравниваем средние значения в двух группах в качестве теста будем использовать bootstrap."
   ]
  },
  {
   "cell_type": "code",
   "execution_count": 52,
   "metadata": {},
   "outputs": [],
   "source": [
    "df_contol = checks_all.query(\"grp == 'A'\").rev\n",
    "df_exp = checks_all.query(\"grp == 'B'\").rev"
   ]
  },
  {
   "cell_type": "markdown",
   "metadata": {},
   "source": [
    "Сформируем гипотезы:     \n",
    "H0 - Статистически значимых различий между средними в обеих группах нет.      \n",
    "H1 - Статистически значимые различия между средними в обеих группах есть.  "
   ]
  },
  {
   "cell_type": "code",
   "execution_count": null,
   "metadata": {},
   "outputs": [],
   "source": []
  },
  {
   "cell_type": "code",
   "execution_count": 53,
   "metadata": {},
   "outputs": [],
   "source": [
    "# Объявим функцию, которая позволит проверять гипотезы с помощью бутстрапа\n",
    "# Функция взята из лекций на курсе\n",
    "def get_bootstrap(\n",
    "    data_column_1,  # числовые значения первой выборки\n",
    "    data_column_2,  # числовые значения второй выборки\n",
    "    boot_it=1000,  # количество бутстрэп-подвыборок\n",
    "    statistic=np.mean,  # интересующая нас статистика\n",
    "    bootstrap_conf_level=0.95  # уровень значимости\n",
    "):\n",
    "    '''бутстрапируем выборку и вычисляем разность интересующих параметров'''\n",
    "    boot_len = max([len(data_column_1), len(data_column_2)])\n",
    "    boot_data = []\n",
    "    for i in tqdm(range(boot_it)):  # извлекаем подвыборки\n",
    "        samples_1 = data_column_1.sample(\n",
    "            boot_len, \n",
    "            replace=True  # параметр возвращения\n",
    "        ).values\n",
    "        \n",
    "        samples_2 = data_column_2.sample(\n",
    "            boot_len,  # чтобы сохранить дисперсию, берем такой же размер выборки\n",
    "            replace=True\n",
    "        ).values\n",
    "        \n",
    "        boot_data.append(statistic(samples_1 - samples_2)) \n",
    "    pd_boot_data = pd.DataFrame(boot_data)\n",
    "        \n",
    "    left_quant = (1 - bootstrap_conf_level) / 2\n",
    "    right_quant = 1 - (1 - bootstrap_conf_level) / 2\n",
    "    quants = pd_boot_data.quantile([left_quant, right_quant])\n",
    "        \n",
    "    p_1 = norm.cdf(\n",
    "        x=0, \n",
    "        loc=np.mean(boot_data), \n",
    "        scale=np.std(boot_data)\n",
    "    )\n",
    "    p_2 = norm.cdf(\n",
    "        x=0, \n",
    "        loc=-np.mean(boot_data), \n",
    "        scale=np.std(boot_data)\n",
    "    )\n",
    "    p_value = min(p_1, p_2) * 2\n",
    "        \n",
    "    '''Визуализация'''\n",
    "    _, _, bars = plt.hist(pd_boot_data[0], bins=50)\n",
    "    for bar in bars:\n",
    "        if abs(bar.get_x()) <= quants.iloc[0][0] or abs(bar.get_x()) >= quants.iloc[1][0]:\n",
    "            bar.set_facecolor('red')\n",
    "        else: \n",
    "            bar.set_facecolor('grey')\n",
    "            bar.set_edgecolor('black')\n",
    "    \n",
    "    plt.style.use('ggplot')\n",
    "    plt.vlines(quants, ymin=0, ymax=50, linestyle='--')\n",
    "    plt.xlabel('boot_data')\n",
    "    plt.ylabel('frequency')\n",
    "    plt.title(\"Histogram of boot_data\")\n",
    "    plt.show()\n",
    "       \n",
    "    return {\"boot_data\": boot_data, \n",
    "            \"quants\": quants, \n",
    "            \"p_value\": p_value}"
   ]
  },
  {
   "cell_type": "code",
   "execution_count": 54,
   "metadata": {},
   "outputs": [
    {
     "data": {
      "application/vnd.jupyter.widget-view+json": {
       "model_id": "eeff0bd59b6245058bebff3ea8577385",
       "version_major": 2,
       "version_minor": 0
      },
      "text/plain": [
       "HBox(children=(FloatProgress(value=0.0, max=10000.0), HTML(value='')))"
      ]
     },
     "metadata": {},
     "output_type": "display_data"
    },
    {
     "name": "stdout",
     "output_type": "stream",
     "text": [
      "\n"
     ]
    },
    {
     "data": {
      "image/png": "[encoded data removed]",
      "text/plain": [
       "<Figure size 1440x504 with 1 Axes>"
      ]
     },
     "metadata": {},
     "output_type": "display_data"
    }
   ],
   "source": [
    "# в результате хранится разница двух распределений, ДИ и pvalue\n",
    "booted_data = get_bootstrap(df_contol, df_exp, boot_it=10000, statistic=np.mean, bootstrap_conf_level=0.95)"
   ]
  },
  {
   "cell_type": "code",
   "execution_count": 55,
   "metadata": {},
   "outputs": [
    {
     "data": {
      "text/plain": [
       "0.04668478126774109"
      ]
     },
     "execution_count": 55,
     "metadata": {},
     "output_type": "execute_result"
    }
   ],
   "source": [
    "booted_data[\"p_value\"]  # p-value"
   ]
  },
  {
   "cell_type": "code",
   "execution_count": 56,
   "metadata": {},
   "outputs": [
    {
     "data": {
      "text/html": [
       "<div>\n",
       "<style scoped>\n",
       "    .dataframe tbody tr th:only-of-type {\n",
       "        vertical-align: middle;\n",
       "    }\n",
       "\n",
       "    .dataframe tbody tr th {\n",
       "        vertical-align: top;\n",
       "    }\n",
       "\n",
       "    .dataframe thead th {\n",
       "        text-align: right;\n",
       "    }\n",
       "</style>\n",
       "<table border=\"1\" class=\"dataframe\">\n",
       "  <thead>\n",
       "    <tr style=\"text-align: right;\">\n",
       "      <th></th>\n",
       "      <th>0</th>\n",
       "    </tr>\n",
       "  </thead>\n",
       "  <tbody>\n",
       "    <tr>\n",
       "      <th>0.025</th>\n",
       "      <td>-20.523563</td>\n",
       "    </tr>\n",
       "    <tr>\n",
       "      <th>0.975</th>\n",
       "      <td>-0.000920</td>\n",
       "    </tr>\n",
       "  </tbody>\n",
       "</table>\n",
       "</div>"
      ],
      "text/plain": [
       "               0\n",
       "0.025 -20.523563\n",
       "0.975  -0.000920"
      ]
     },
     "execution_count": 56,
     "metadata": {},
     "output_type": "execute_result"
    }
   ],
   "source": [
    "booted_data[\"quants\"]  # ДИ"
   ]
  },
  {
   "cell_type": "markdown",
   "metadata": {},
   "source": [
    "Как видно из исследования проведенного выше 0 находится ВНЕ доверительного интервала разницы средних внутри групп.   \n",
    "pval - p-уровень значимости составляет примерно 0,044 (4,4 %) - значение ниже порогового значения p-value принятого выше. Соответственно, у нас есть все основания отклонить нулевую гипотезу.\n",
    "\n",
    "#### Считаем, что с бОльшей вероятностью, изменения между группами А и В в части ARPPU статистически значимы. Также отметим положительный эффект в метрике ARPPU в части нововведений."
   ]
  },
  {
   "cell_type": "code",
   "execution_count": null,
   "metadata": {},
   "outputs": [],
   "source": []
  },
  {
   "cell_type": "markdown",
   "metadata": {},
   "source": [
    "### Вывод к Заданию 1"
   ]
  },
  {
   "cell_type": "markdown",
   "metadata": {},
   "source": [
    "Итак, при сравнении целевой группы В с контрольной группой А мы сделали следующие выводы:    \n",
    "1 Конверсия пользователей, которые были активны в период проведения теста, в покупателя (относительная конверсия):     \n",
    "    уменьшилась, тесты показывают, что изменения были статистически значимыми с бОльшей долей вероятности.   \n",
    "        \n",
    "2 ARPAU - средний доход с активного пользователя:\n",
    "    увеличился, проведенный тест показал, что у нас есть основания утверждать, что произошедшие изменения были статистически значимыми с   бОльшей долей вероятности.\n",
    "    \n",
    "На данный момент, мы видим, что конверсия активного пользователя в покупателя статистически значимо уменьшилась, ARPAU увеличился в экспериментальной группе, при чем значение p-value при проведении теста для ARPPU было очень близко к пороговому значению p-value.        \n",
    "Тем не менее, мы не можем сделать однозначный вывод несут ли изменения положительный эффект, имея только те данные, что у нас есть.\n",
    "\n",
    "Во-первых, в результате ознакомления с исходными данными были выявлены некоторые вопросы, которые могут влиять на интерпретацию результатов, а именно:      \n",
    "1 Дополнительный файл studs_add, присланный через 2 недели, вызывает опаснения тем, что прислан позднее и данная выборка может быть уже не репрезентативной в виду разных временных рамок исследования.     \n",
    "2 Есть вопросы, связанные с тем, что пользователи не были активны, но совершали покупки. При каком развитии событий это могло произойти? Это автооплата или нет? Влияет ли это на интерпретацию наших результатов?      \n",
    "3 Не до конца ясно, rev указанное в таблице checks это сумма покупок в результате однйо покупки или разных покупок пользователя? Сумма увеличилась потому что пользователям понравилась новая механика оформления заказа и они делали много покупок? Либо это была одна покупка на бОльшую сумму? \n",
    "\n",
    "Во-вторых, по результатам исследований было выявлено, что относительная конверсия из активности в покупку - отрицательная, а ARPAU положительный. Необходимо уточнить при каком развитии событий такое могло произойти? Не было ли проведения каких-то рекламных компаний как стимуляции покупок во время проведения эксперимента?Вопрос номер 3, указанный выше созвучен с данным пунктом и требует дополнительных исследований. \n",
    "\n",
    "В-третьих, необходимо обсуждения с коллегами, которые могут оценить целесообразно ли экономически потерять в относительной конверсии при условии увеличения ARPAU, при условии, что вопросы, указанные выше по итогу не оказали влияния на данные.\n",
    "\n",
    "С учетом выше сказанного требуется дополнительная проработка данного исследования с учетом ответов на вопросы, указанные выше. Однозначного ответа пока нет."
   ]
  },
  {
   "cell_type": "code",
   "execution_count": null,
   "metadata": {},
   "outputs": [],
   "source": []
  },
  {
   "cell_type": "code",
   "execution_count": null,
   "metadata": {},
   "outputs": [],
   "source": []
  },
  {
   "cell_type": "markdown",
   "metadata": {},
   "source": [
    "## Задание 2. SQL"
   ]
  },
  {
   "cell_type": "markdown",
   "metadata": {},
   "source": [
    "Для связи python и SQL будем использовать библиотеку Pandahouse. Перед тем как приступить к выполнению заданий, мной были исследованы данные в SQL.     \n",
    "Были сделаны следующие выводы:    \n",
    "- согласно датам, указанным в таблицах, данные предоставлены в рамках одного месяца. В заданиях есть условия по датам \"за текущий месяц\", и т.к. все данные даны за месяц, то мы не импортируем столбцы с датами, они не принимают участие в данном исследовании;\n",
    "- столбцы с id студентов имеют одинаковый тип данных в различных ДФ и одинаковое название;\n",
    "- стобец Money имеет формат int, что позволяет проводить с ним математические операции;\n",
    "- пропущенные значения отсутствуют;\n",
    "- в ДФ studs нет повторябщихся id_st, задвоения отсутствуют."
   ]
  },
  {
   "cell_type": "code",
   "execution_count": 57,
   "metadata": {},
   "outputs": [],
   "source": [
    "# параметры для подключения к CH и базе данных default\n",
    "connection_default = {\n",
    "    'host': 'https://clickhouse.lab.karpov.courses',\n",
    "    'database': 'default',\n",
    "    'user': 'student', \n",
    "    'password': 'dpo_python_2020'\n",
    "}"
   ]
  },
  {
   "cell_type": "markdown",
   "metadata": {},
   "source": [
    "### 2.1 Очень усердные ученики.\n",
    "\n",
    "#### 2.1.1 Условие\n",
    "\n",
    "Образовательные курсы состоят из различных уроков, каждый из которых состоит из нескольких маленьких заданий. Каждое такое маленькое задание называется \"горошиной\"."
   ]
  },
  {
   "cell_type": "markdown",
   "metadata": {},
   "source": [
    "#### 2.1.2 Задача\n",
    "\n",
    "Дана таблица default.peas\n",
    "Необходимо написать оптимальный запрос, который даст информацию о количестве очень усердных студентов.NB! Под усердным студентом мы понимаем студента, который правильно решил 20 задач за текущий месяц.\n",
    "Назовём очень усердным учеником того пользователя, который хотя бы раз за текущий месяц правильно решил 20 горошин."
   ]
  },
  {
   "cell_type": "code",
   "execution_count": 58,
   "metadata": {},
   "outputs": [],
   "source": [
    "q2_1 = '''\n",
    "SELECT\n",
    "    COUNT(*) AS rows\n",
    "FROM (  \n",
    "    SELECT\n",
    "        st_id,\n",
    "        sum(correct) AS quantity\n",
    "    FROM\n",
    "        peas\n",
    "    GROUP BY \n",
    "        st_id\n",
    "    HAVING\n",
    "        quantity > 19\n",
    "    )\n",
    "    '''\n",
    "\n",
    "\n",
    "# отправляем запрос и записываем результат в пандасовский датафрейм\n",
    "answer2_1 = ph.read_clickhouse(query=q2_1, connection=connection_default).rows[0]"
   ]
  },
  {
   "cell_type": "code",
   "execution_count": 59,
   "metadata": {},
   "outputs": [
    {
     "name": "stdout",
     "output_type": "stream",
     "text": [
      "ОТВЕТ: Количество очень усердных студентов в таблице, решивших за месяц 20 и более задач - 136 человек\n"
     ]
    }
   ],
   "source": [
    "print(f'ОТВЕТ: Количество очень усердных студентов в таблице, решивших за месяц 20 и более задач - {answer2_1} человек')"
   ]
  },
  {
   "cell_type": "code",
   "execution_count": null,
   "metadata": {},
   "outputs": [],
   "source": []
  },
  {
   "cell_type": "markdown",
   "metadata": {},
   "source": [
    "####  2.2.2 Задача\n",
    "Дана таблицы: default.peas (см. выше), default.studs и default.final_project_check.    \n",
    "Необходимо в одном запросе выгрузить следующую информацию о группах пользователей:  \n",
    "- ARPU \n",
    "- ARPAU \n",
    "- CR в покупку \n",
    "- СR активного пользователя в покупку \n",
    "- CR пользователя из активности по математике (subject = ’math’) в покупку курса по математике\n",
    "\n",
    "Дополнительные условия для метрик:    \n",
    "ARPU считается относительно всех пользователей, попавших в группы.  \n",
    "Активным считается пользователь, за все время решивший больше 10 задач правильно в любых дисциплинах.       \n",
    "Активным по математике считается пользователь, за все время решивший 2 или больше задач правильно по математике.    "
   ]
  },
  {
   "cell_type": "markdown",
   "metadata": {},
   "source": [
    "Для решения данной задачи мы посчитаем в блоке WITH общее число участников эксперимента (как количество пользователей с уникальным st_id).\n",
    "Затем:\n",
    "- ARPU - средний доход с привлечённого пользователя внутри каждой группы считаем как соотношение суммы оплат внутри каждой тестовой группы к общему числу участников всего эксперимента. \n",
    "- ARPAU - средний доход с активного привлеченного пользователя внутри каждой тестовой группы считаем как как отношение суммы всех оплат активных участников внутри группы к общему числу активных участников внутри группы. При этом активным мы считаем пользователя, который решил больше 10 задач правильно в любых дисциплинах.\n",
    "- CR в покупку - конверсию в покупку считаем как отношение числа всех пользователей, совершивших поокупку внутри группы к общему числу пользователей внутри группы.\n",
    "- CR активного пользователя в покупку считаем также как CR в покупку, но только для активных пользователей. Активным мы считаем пользователя, который решил больше 10 задач правильно в любых дисциплинах. \n",
    "- CR пользователя из активности по математике (subject = ’math’) в покупку курса по математике - конверсия для активного пользователя предмета Математика. Считаем по формуле CR в покупку, но при двух дополнительных условиях: пользователь должен быть активен по предмету Математика (а значит решил 2 и более задачи по математике), а в сумму покупок бучитываются только покупки, связанные с предметом Математика.\n",
    "\n",
    "Для удобства восприятия конверсия показана в процентном значении"
   ]
  },
  {
   "cell_type": "code",
   "execution_count": 60,
   "metadata": {},
   "outputs": [],
   "source": [
    "# создаем запрос, database задана выше 'default'\n",
    "q_metric = '''\n",
    "WITH (SELECT COUNT(DISTINCT(st_id)) FROM studs) AS total_studs\n",
    "\n",
    "SELECT \n",
    "    test_grp,\n",
    "    \n",
    "    sum(revenue_all) / total_studs AS ARPU,\n",
    "    \n",
    "    sum(CASE WHEN correct_all > 10 THEN revenue_all ELSE 0 END) / \n",
    "        sum(CASE WHEN correct_all > 10 THEN 1 ELSE 0 END) AS ARPAU, \n",
    "    \n",
    "    (sum(CASE WHEN revenue_all > 0 THEN 1 ELSE 0 END) / \n",
    "        count(st_id)) * 100 AS CR_percent,\n",
    "    \n",
    "    (sum(CASE WHEN correct_all > 10 AND revenue_all > 0 THEN 1 ELSE 0 END) /\n",
    "        sum(CASE WHEN  correct_all > 10  THEN 1 ELSE 0 END)) * 100 AS CR_active_percent, \n",
    "    \n",
    "    (sum(CASE WHEN correct_math > 1 AND revenue_math > 0 THEN 1 ELSE 0 END) / \n",
    "        sum(CASE WHEN  correct_math > 1 THEN 1 ELSE 0 END)) * 100 AS CR_active_math_percent\n",
    "FROM\n",
    "    (\n",
    "    SELECT\n",
    "    test_grp,\n",
    "    st_id,\n",
    "    correct_all,\n",
    "    correct_math,\n",
    "    revenue_all,\n",
    "    revenue_math\n",
    "    FROM\n",
    "        (\n",
    "        SELECT\n",
    "        st_id,\n",
    "            SUM(money) AS revenue_all,\n",
    "            SUM(CASE WHEN subject == 'Math' THEN money ELSE 0 END) AS revenue_math\n",
    "        FROM \n",
    "            final_project_check\n",
    "        GROUP BY\n",
    "            st_id\n",
    "        ) AS f\n",
    "    RIGHT JOIN\n",
    "        (\n",
    "        SELECT\n",
    "            st_id,\n",
    "            test_grp,\n",
    "            correct_all,\n",
    "            correct_math    \n",
    "        FROM \n",
    "            studs AS s\n",
    "        LEFT JOIN \n",
    "            (SELECT\n",
    "                st_id,\n",
    "                SUM(correct) AS correct_all,\n",
    "                SUM(CASE WHEN subject == 'Math' THEN correct ELSE 0 END) AS correct_math\n",
    "            FROM\n",
    "                peas\n",
    "            GROUP BY\n",
    "                st_id\n",
    "            ) as p\n",
    "        ON s.st_id = p.st_id\n",
    "        ) AS sp\n",
    "    ON f.st_id = sp.st_id\n",
    "    )\n",
    "GROUP BY test_grp\n",
    "    '''\n",
    "\n",
    "\n",
    "# отправляем запрос и записываем результат в пандасовский датафрейм\n",
    "final_project_check = ph.read_clickhouse(query=q_metric, connection=connection_default)"
   ]
  },
  {
   "cell_type": "code",
   "execution_count": 61,
   "metadata": {},
   "outputs": [
    {
     "data": {
      "text/html": [
       "<div>\n",
       "<style scoped>\n",
       "    .dataframe tbody tr th:only-of-type {\n",
       "        vertical-align: middle;\n",
       "    }\n",
       "\n",
       "    .dataframe tbody tr th {\n",
       "        vertical-align: top;\n",
       "    }\n",
       "\n",
       "    .dataframe thead th {\n",
       "        text-align: right;\n",
       "    }\n",
       "</style>\n",
       "<table border=\"1\" class=\"dataframe\">\n",
       "  <thead>\n",
       "    <tr style=\"text-align: right;\">\n",
       "      <th></th>\n",
       "      <th>test_grp</th>\n",
       "      <th>ARPU</th>\n",
       "      <th>ARPAU</th>\n",
       "      <th>CR_percent</th>\n",
       "      <th>CR_active_percent</th>\n",
       "      <th>CR_active_math_percent</th>\n",
       "    </tr>\n",
       "  </thead>\n",
       "  <tbody>\n",
       "    <tr>\n",
       "      <th>0</th>\n",
       "      <td>control</td>\n",
       "      <td>2308.333333</td>\n",
       "      <td>10393.700787</td>\n",
       "      <td>4.918033</td>\n",
       "      <td>11.023622</td>\n",
       "      <td>6.122449</td>\n",
       "    </tr>\n",
       "    <tr>\n",
       "      <th>1</th>\n",
       "      <td>pilot</td>\n",
       "      <td>5658.333333</td>\n",
       "      <td>29739.583333</td>\n",
       "      <td>10.847458</td>\n",
       "      <td>26.041667</td>\n",
       "      <td>9.523810</td>\n",
       "    </tr>\n",
       "  </tbody>\n",
       "</table>\n",
       "</div>"
      ],
      "text/plain": [
       "  test_grp         ARPU         ARPAU  CR_percent  CR_active_percent  \\\n",
       "0  control  2308.333333  10393.700787    4.918033          11.023622   \n",
       "1    pilot  5658.333333  29739.583333   10.847458          26.041667   \n",
       "\n",
       "   CR_active_math_percent  \n",
       "0                6.122449  \n",
       "1                9.523810  "
      ]
     },
     "execution_count": 61,
     "metadata": {},
     "output_type": "execute_result"
    }
   ],
   "source": [
    "final_project_check "
   ]
  },
  {
   "cell_type": "code",
   "execution_count": null,
   "metadata": {},
   "outputs": [],
   "source": []
  },
  {
   "cell_type": "code",
   "execution_count": null,
   "metadata": {},
   "outputs": [],
   "source": []
  },
  {
   "cell_type": "code",
   "execution_count": null,
   "metadata": {},
   "outputs": [],
   "source": []
  },
  {
   "cell_type": "markdown",
   "metadata": {},
   "source": [
    "## Задание 3. Python"
   ]
  },
  {
   "cell_type": "markdown",
   "metadata": {},
   "source": [
    "### 3.1 Задача\n",
    "\n",
    "Реализуйте функцию, которая будет автоматически подгружать информацию из дополнительного файла groups_add.csv (заголовки могут отличаться) и на основании дополнительных параметров пересчитывать метрики.     "
   ]
  },
  {
   "cell_type": "markdown",
   "metadata": {},
   "source": [
    "Реализуйте функцию, которая будет строить графики по получаемым метрикам."
   ]
  },
  {
   "cell_type": "code",
   "execution_count": 62,
   "metadata": {},
   "outputs": [],
   "source": [
    "def metrics_update_studs_add(groups, active_studs, checks): \n",
    "    def get_data_metrics(groups, active_studs, checks):\n",
    "        base_url = 'https://cloud-api.yandex.net/v1/disk/public/resources/download?'  # общая ссылка на Я.диск\n",
    "        public_key_groups_add = 'https://disk.yandex.ru/d/5Kxrz02m3IBUwQ'  # индивидуальная ссылка на файл\n",
    "        # формируем загрузочную ссылку\n",
    "        final_url_groups_add = base_url + urlencode(dict(public_key=public_key_groups_add))  \n",
    "        response_groups_add = requests.get(final_url_groups_add)\n",
    "        url_groups_add = response_groups_add.json()['href']\n",
    "        groups_add = pd.read_csv(url_groups_add)  # читаем ДФ\n",
    "        \n",
    "        '''объединяем ДФ с исходным ДФ 'groups', чтобы иметь полный список участников'''\n",
    "        groups_full = pd.concat([groups, groups_add], axis=0)\n",
    "        # определяем факт покупки для каждого\n",
    "        groups_full['is_purchase'] = groups_full['id'].isin(checks.student_id).astype(int)\n",
    "        # определяем фактом активности для каждого\n",
    "        groups_full['is_active'] = groups['id'].isin(active_studs.student_id).astype(int) \n",
    "        # определяем кто был активен и купил\n",
    "        groups_full['is_active_and_purchase'] = groups_full.is_purchase * groups_full.is_active  \n",
    "        return groups_full\n",
    "    \n",
    "    def get_checks_full(groups_full):\n",
    "        '''объединяем общий ДФ groups_full с ДФ checks. '''\n",
    "        checks_full = groups_full.query(\"is_active == 1\")[['id', 'grp']] \\\n",
    "            .merge(checks, how='left', left_on='id', right_on='student_id') \\\n",
    "            .drop('student_id', axis=1).fillna(0)\n",
    "        return checks_full\n",
    "            \n",
    "    def CR_abs(groups_full):\n",
    "        '''рассчитываем метрику 1 Абсолютная конверсия: регистрация (присвоение id) -> покупка'''\n",
    "        CR_abs_full = pd.crosstab(groups_full.grp, groups_full.is_purchase)\n",
    "        CR_abs_full['CR_percent'] = (CR_abs_full[1] / CR_abs_full[0]) * 100  \n",
    "        return CR_abs_full\n",
    "\n",
    "    def CR_abs_active(groups_full):\n",
    "        '''\n",
    "        рассчитываем метрику 2 Абсолютная конверсия: регистрация (присвоение id) -> покупка) при условии, \n",
    "        что пользователь в период эксперимента проявлял активность. Вычислим значение конверсии для каждой группы\n",
    "        '''\n",
    "        CR_abs_active_full = pd.crosstab(groups_full.grp, groups_full.is_active_and_purchase)\n",
    "        CR_abs_active_full['CR_percent'] = (CR_abs_active_full[1] / CR_abs_active_full[0]) * 100  \n",
    "        return CR_abs_active_full\n",
    "        \n",
    "    def CR_relative(groups_full):        \n",
    "        '''рассчитываем метрику 3 Относительная конверсия (активность -> покупка)'''\n",
    "        # отберем только тех, кто был активен и рассчитаем конверсию в покупку только среди них\n",
    "        CR_relative_full = pd.crosstab(\n",
    "            groups_full.query(\"is_active == 1\").grp, \n",
    "            groups_full.query(\"is_active == 1\").is_purchase\n",
    "        ) \n",
    "        # вычислим значение конверсии для каждой группы\n",
    "        CR_relative_full['CR_percent'] = (CR_relative_full[1] / CR_relative_full[0]) * 100  \n",
    "        return CR_relative_full\n",
    "        \n",
    "    def ARPAU(checks_full):        \n",
    "        '''рассчитываем метрику 4 - ARPAU средний доход на активного пользователя'''\n",
    "        ARPAU_full = checks_full.groupby('grp', as_index=False) \\\n",
    "            .agg(revenue=('rev', 'sum'), quantity=('id', 'count'))\n",
    "        ARPAU_full['ARPAU'] = ARPAU_full.revenue / ARPAU_full.quantity\n",
    "        return ARPAU_full\n",
    "    \n",
    "    def metric_print(metric1, metric2, metric3, metric4):\n",
    "        print('1 Абсолютная конверсия: регистрация (присвоение id) -> покупка')\n",
    "        print(metric1)\n",
    "             \n",
    "        print('\\n\\n2 Абсолютная конверсия: регистрация (присвоение id) -> покупка) с условием активности')\n",
    "        print(metric2)\n",
    "                \n",
    "        print('\\n\\n3 Относительная конверсия (активность -> покупка)')\n",
    "        print(metric3)\n",
    "           \n",
    "        print('\\n\\n4 ARPAU средний доход на активного пользователя')\n",
    "        print(metric4)\n",
    "        return metric1, metric2, metric3, metric4\n",
    "    \n",
    "    groups_full = get_data_metrics(groups, active_studs, checks)\n",
    "    checks_full = get_checks_full(groups_full)\n",
    "    metric1 = CR_abs(groups_full)\n",
    "    metric2 = CR_abs_active(groups_full)\n",
    "    metric3 = CR_relative(groups_full)\n",
    "    metric4 = ARPAU(checks_full)      \n",
    "    CR_abs, CR_abs_active, CR_relative, ARPAU = metric_print(metric1, metric2, metric3, metric4)\n",
    "    \n",
    "    return CR_abs, CR_abs_active, CR_relative, ARPAU"
   ]
  },
  {
   "cell_type": "code",
   "execution_count": 63,
   "metadata": {},
   "outputs": [
    {
     "name": "stdout",
     "output_type": "stream",
     "text": [
      "1 Абсолютная конверсия: регистрация (присвоение id) -> покупка\n",
      "is_purchase      0    1  CR_percent\n",
      "grp                                \n",
      "A            14586  107    0.733580\n",
      "B            59449  434    0.730038\n",
      "\n",
      "\n",
      "2 Абсолютная конверсия: регистрация (присвоение id) -> покупка) с условием активности\n",
      "is_active_and_purchase      0    1  CR_percent\n",
      "grp                                           \n",
      "A                       14615   78    0.533698\n",
      "B                       59570  313    0.525432\n",
      "\n",
      "\n",
      "3 Относительная конверсия (активность -> покупка)\n",
      "is_purchase     0    1  CR_percent\n",
      "grp                               \n",
      "A            1457   78    5.353466\n",
      "B            6485  313    4.826523\n",
      "\n",
      "\n",
      "4 ARPAU средний доход на активного пользователя\n",
      "  grp      revenue  quantity      ARPAU\n",
      "0   A   72820.0000      1535  47.439739\n",
      "1   B  393074.0035      6798  57.822007\n"
     ]
    }
   ],
   "source": [
    "CR_abs, CR_abs_active, CR_relative, ARPAU = metrics_update_studs_add(groups, active_studs, checks)"
   ]
  },
  {
   "cell_type": "code",
   "execution_count": 64,
   "metadata": {},
   "outputs": [],
   "source": [
    "def get_metrics(CR_abs, CR_abs_active, CR_relative, ARPAU):    \n",
    "    '''1 Абсолютная конверсия'''\n",
    "    CR_abs.plot(kind='bar', y='CR_percent', legend=False)\n",
    "    plt.xticks(rotation=0)\n",
    "    plt.xlabel('Группа')\n",
    "    plt.title('Абсолютная конверсия')\n",
    "\n",
    "     \n",
    "    '''2 Абсолютная конверсия с учетом покупок только активных пользователей'''\n",
    "    CR_abs_active.plot(kind='bar', y='CR_percent', legend=False)\n",
    "    plt.xticks(rotation=0)\n",
    "    plt.xlabel('Группа')\n",
    "    plt.title('Абсолютная конверсия с учетом покупок только активных пользователей')\n",
    "   \n",
    "    \n",
    "    '''3 Относительная конверсия'''\n",
    "    CR_relative.plot(kind='bar', y='CR_percent', legend=False)\n",
    "    plt.xticks(rotation=0)\n",
    "    plt.xlabel('Группа')\n",
    "    plt.title('Относительная конверсия')\n",
    "       \n",
    "    \n",
    "    '''4 ARPAU'''\n",
    "    ARPAU.plot(kind='bar', x='grp', y='ARPAU', legend=False)\n",
    "    plt.xticks(rotation=0)\n",
    "    plt.xlabel('Группа')\n",
    "    plt.title('ARPAU')"
   ]
  },
  {
   "cell_type": "code",
   "execution_count": 65,
   "metadata": {},
   "outputs": [
    {
     "data": {
      "image/png": "[encoded data removed]",
      "text/plain": [
       "<Figure size 1440x504 with 1 Axes>"
      ]
     },
     "metadata": {},
     "output_type": "display_data"
    },
    {
     "data": {
      "image/png": "[encoded data removed]",
      "text/plain": [
       "<Figure size 1440x504 with 1 Axes>"
      ]
     },
     "metadata": {},
     "output_type": "display_data"
    },
    {
     "data": {
      "image/png": "[encoded data removed]",
      "text/plain": [
       "<Figure size 1440x504 with 1 Axes>"
      ]
     },
     "metadata": {},
     "output_type": "display_data"
    },
    {
     "data": {
      "image/png": "[encoded data removed]",
      "text/plain": [
       "<Figure size 1440x504 with 1 Axes>"
      ]
     },
     "metadata": {},
     "output_type": "display_data"
    }
   ],
   "source": [
    "get_metrics(CR_abs, CR_abs_active, CR_relative, ARPAU)"
   ]
  },
  {
   "cell_type": "code",
   "execution_count": null,
   "metadata": {},
   "outputs": [],
   "source": []
  },
  {
   "cell_type": "code",
   "execution_count": null,
   "metadata": {},
   "outputs": [],
   "source": []
  },
  {
   "cell_type": "code",
   "execution_count": null,
   "metadata": {},
   "outputs": [],
   "source": []
  },
  {
   "cell_type": "code",
   "execution_count": null,
   "metadata": {},
   "outputs": [],
   "source": []
  },
  {
   "cell_type": "code",
   "execution_count": null,
   "metadata": {},
   "outputs": [],
   "source": []
  }
 ],
 "metadata": {
  "kernelspec": {
   "display_name": "Python 3",
   "language": "python",
   "name": "python3"
  },
  "language_info": {
   "codemirror_mode": {
    "name": "ipython",
    "version": 3
   },
   "file_extension": ".py",
   "mimetype": "text/x-python",
   "name": "python",
   "nbconvert_exporter": "python",
   "pygments_lexer": "ipython3",
   "version": "3.7.3"
  }
 },
 "nbformat": 4,
 "nbformat_minor": 4
}
